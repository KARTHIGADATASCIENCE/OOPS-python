{
 "cells": [
  {
   "cell_type": "code",
   "execution_count": 9,
   "id": "69d49968-93bd-4424-a2f7-3fd025c8f84d",
   "metadata": {},
   "outputs": [
    {
     "name": "stdout",
     "output_type": "stream",
     "text": [
      "Inserting elements into the heap:\n",
      "Heap after inserting 10: [10]\n",
      "Heap after inserting 5: [5, 10]\n",
      "Heap after inserting 3: [3, 10, 5]\n",
      "Heap after inserting 7: [3, 7, 5, 10]\n",
      "Heap after inserting 1: [1, 3, 5, 10, 7]\n",
      "\n",
      "The smallest element in the heap is: 1\n",
      "\n",
      "Removed the smallest element (1) from the heap: [3, 7, 5, 10]\n",
      "\n",
      "Unsorted list: [20, 15, 8, 3, 17]\n",
      "Heap after heapifying the unsorted list: [3, 15, 8, 20, 17]\n",
      "\n",
      "Heap after replacing the smallest element with 2: [2, 7, 5, 10]\n",
      "\n",
      "Heap after pushpop operation (pushed 4, popped 2): [4, 7, 5, 10]\n",
      "\n",
      "The 3 smallest elements in the heap: [4, 5, 7]\n",
      "\n",
      "The 3 largest elements in the heap: [10, 7, 5]\n",
      "\n",
      "Final state of the heap: [4, 7, 5, 10]\n"
     ]
    }
   ],
   "source": [
    "import heapq\n",
    "\n",
    "# 1. Initialize an empty list to act as a min-heap\n",
    "heap = []\n",
    "\n",
    "# 2. Operation: Insert elements into the heap\n",
    "elements = [10, 5, 3, 7, 1]\n",
    "print(\"Inserting elements into the heap:\")\n",
    "for element in elements:\n",
    "    heapq.heappush(heap, element)\n",
    "    print(f\"Heap after inserting {element}: {heap}\")\n",
    "\n",
    "# 3. Operation: Peek at the smallest element (without removing it)\n",
    "smallest_element = heap[0]\n",
    "print(f\"\\nThe smallest element in the heap is: {smallest_element}\")\n",
    "\n",
    "# 4. Operation: Remove the smallest element from the heap\n",
    "removed_element = heapq.heappop(heap)\n",
    "print(f\"\\nRemoved the smallest element ({removed_element}) from the heap: {heap}\")\n",
    "\n",
    "# 5. Operation: Heapify an unsorted list\n",
    "unsorted_list = [20, 15, 8, 3, 17]\n",
    "print(f\"\\nUnsorted list: {unsorted_list}\")\n",
    "heapq.heapify(unsorted_list)\n",
    "print(f\"Heap after heapifying the unsorted list: {unsorted_list}\")\n",
    "\n",
    "# 6. Operation: Replace the smallest element with a new element\n",
    "heapq.heapreplace(heap, 2)\n",
    "print(f\"\\nHeap after replacing the smallest element with 2: {heap}\")\n",
    "\n",
    "# 7. Operation: Push a new element and pop the smallest element in one step\n",
    "pushed_and_popped_element = heapq.heappushpop(heap, 4)\n",
    "print(f\"\\nHeap after pushpop operation (pushed 4, popped {pushed_and_popped_element}): {heap}\")\n",
    "\n",
    "# 8. Operation: Get the 3 smallest elements from the heap\n",
    "three_smallest = heapq.nsmallest(3, heap)\n",
    "print(f\"\\nThe 3 smallest elements in the heap: {three_smallest}\")\n",
    "\n",
    "# 9. Operation: Get the 3 largest elements from the heap\n",
    "three_largest = heapq.nlargest(3, heap)\n",
    "print(f\"\\nThe 3 largest elements in the heap: {three_largest}\")\n",
    "\n",
    "# Final state of the heap\n",
    "print(f\"\\nFinal state of the heap: {heap}\")\n"
   ]
  },
  {
   "cell_type": "code",
   "execution_count": 3,
   "id": "ebd007b6-bf98-4f1a-981b-0d5406702006",
   "metadata": {},
   "outputs": [
    {
     "name": "stdout",
     "output_type": "stream",
     "text": [
      "Added -10 (stored as -10) to the max-heap: [10]\n",
      "Added -5 (stored as -5) to the max-heap: [10, 5]\n",
      "Added -15 (stored as -15) to the max-heap: [15, 5, 10]\n",
      "Added -20 (stored as -20) to the max-heap: [20, 15, 10, 5]\n",
      "Added -2 (stored as -2) to the max-heap: [20, 15, 10, 5, 2]\n",
      "Added -30 (stored as -30) to the max-heap: [30, 15, 20, 5, 2, 10]\n",
      "Removed the largest element 30 from the max-heap: [20, 15, 10, 5, 2]\n",
      "Removed the largest element 20 from the max-heap: [15, 5, 10, 2]\n",
      "Removed the largest element 15 from the max-heap: [10, 5, 2]\n",
      "Removed the largest element 10 from the max-heap: [5, 2]\n",
      "Removed the largest element 5 from the max-heap: [2]\n",
      "Removed the largest element 2 from the max-heap: []\n",
      "Max-heap is now empty.\n"
     ]
    }
   ],
   "source": [
    "import heapq\n",
    "\n",
    "# Initialize an empty list to act as a max-heap\n",
    "max_heap = []\n",
    "\n",
    "# Elements to add to the max-heap\n",
    "elements = [10, 5, 15, 20, 2, 30]\n",
    "\n",
    "# Adding elements to the max-heap by pushing negative values\n",
    "for element in elements:\n",
    "    heapq.heappush(max_heap, -element)\n",
    "    print(f\"Added {-element} (stored as {-element}) to the max-heap: {[-x for x in max_heap]}\")\n",
    "\n",
    "# Check if the max-heap is not empty\n",
    "if max_heap:\n",
    "    # Remove the largest element from the max-heap (smallest in negative)\n",
    "    max_element = -heapq.heappop(max_heap)\n",
    "    print(f\"Removed the largest element {max_element} from the max-heap: {[-x for x in max_heap]}\")\n",
    "else:\n",
    "    print(\"Max-heap is empty, cannot remove elements.\")\n",
    "\n",
    "# Continue removing elements until the max-heap is empty\n",
    "while max_heap:\n",
    "    max_element = -heapq.heappop(max_heap)\n",
    "    print(f\"Removed the largest element {max_element} from the max-heap: {[-x for x in max_heap]}\")\n",
    "\n",
    "# Final check to see if the max-heap is empty\n",
    "if not max_heap:\n",
    "    print(\"Max-heap is now empty.\")\n",
    "else:\n",
    "    print(\"Max-heap still contains elements.\")\n"
   ]
  },
  {
   "cell_type": "code",
   "execution_count": null,
   "id": "9ec87179-eaa9-4a0c-ba55-5fd2ec48fb0f",
   "metadata": {},
   "outputs": [],
   "source": []
  }
 ],
 "metadata": {
  "kernelspec": {
   "display_name": "Python 3 (ipykernel)",
   "language": "python",
   "name": "python3"
  },
  "language_info": {
   "codemirror_mode": {
    "name": "ipython",
    "version": 3
   },
   "file_extension": ".py",
   "mimetype": "text/x-python",
   "name": "python",
   "nbconvert_exporter": "python",
   "pygments_lexer": "ipython3",
   "version": "3.12.4"
  }
 },
 "nbformat": 4,
 "nbformat_minor": 5
}
