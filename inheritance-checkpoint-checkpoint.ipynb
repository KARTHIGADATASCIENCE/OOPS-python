{
 "cells": [
  {
   "cell_type": "markdown",
   "id": "e8c0edd8-c18a-4b1b-9393-a4beb594a23d",
   "metadata": {},
   "source": [
    "**CLASS AND OBJECT**"
   ]
  },
  {
   "cell_type": "code",
   "execution_count": 22,
   "id": "9849b8b6-f88d-4366-a705-a27364c971bc",
   "metadata": {},
   "outputs": [
    {
     "name": "stdout",
     "output_type": "stream",
     "text": [
      "son's lap\n"
     ]
    }
   ],
   "source": [
    "class dad:\n",
    "    def tab(self):\n",
    "        print(\"dad's tab\")\n",
    "class son:\n",
    "    def lap(self):\n",
    "        print(\"son's lap\")\n",
    "s1=son()\n",
    "s2=son()\n",
    "s1.lap()\n",
    "s2.tab()\n"
   ]
  },
  {
   "cell_type": "markdown",
   "id": "13e5f1ab-fd6b-47d8-9529-4e4060502fa7",
   "metadata": {},
   "source": [
    "**INHERITANCE**"
   ]
  },
  {
   "cell_type": "markdown",
   "id": "9c32acc2-b81d-4fcf-aa51-88ed70165326",
   "metadata": {},
   "source": [
    "**It is a mechanism that allows a new class(called a child or subclass) to inherit attributes & methods from an existing class (parent or super class)\n",
    "This enables code reuse & creation of class hierarchy**\n"
   ]
  },
  {
   "cell_type": "code",
   "execution_count": 25,
   "id": "a0983874-bfd6-40d2-8af2-1dd98c7a57f1",
   "metadata": {},
   "outputs": [
    {
     "name": "stdout",
     "output_type": "stream",
     "text": [
      "dad's tab\n"
     ]
    }
   ],
   "source": [
    "class dad:\n",
    "    def tab(self):\n",
    "        print(\"dad's tab\")\n",
    "        \n",
    "class son(dad):\n",
    "    def lap(self):\n",
    "        print(\"son's lap\")\n",
    "s1=son()\n",
    "s2=son()\n",
    "s1.lap()\n",
    "s2.tab()"
   ]
  },
  {
   "cell_type": "markdown",
   "id": "4e48504b-0b44-412e-9f7a-ef1a7628aea5",
   "metadata": {},
   "source": [
    "**using super()**"
   ]
  },
  {
   "cell_type": "code",
   "execution_count": 43,
   "id": "68567028-dd51-49bd-9654-c38640eeae5c",
   "metadata": {},
   "outputs": [
    {
     "name": "stdout",
     "output_type": "stream",
     "text": [
      "vehicle engine start\n",
      "car eng start\n"
     ]
    }
   ],
   "source": [
    "class vehicle:\n",
    "    def veh_eng(self):\n",
    "        print(\"vehicle engine start\")\n",
    "        \n",
    "class car(vehicle):\n",
    "    def car_eng(self):\n",
    "        super().veh_eng()\n",
    "        print(\"car eng start\")\n",
    "        \n",
    "k1=car()\n",
    "k1.car_eng()"
   ]
  },
  {
   "cell_type": "code",
   "execution_count": 51,
   "id": "2513c17f-7a93-472b-9951-168c87a6eff9",
   "metadata": {},
   "outputs": [
    {
     "name": "stdout",
     "output_type": "stream",
     "text": [
      "Method in class B\n",
      "Method in class D\n"
     ]
    }
   ],
   "source": [
    "class A:\n",
    "    def method(self):\n",
    "        print(\"Method in class A\")\n",
    "class B(A):\n",
    "    def method(self):\n",
    "        print(\"Method in class B\")\n",
    "class C(A):\n",
    "    def method(self):\n",
    "        print(\"Method in class C\")\n",
    "class D(B, C):\n",
    "    def method(self):\n",
    "        super().method()  # This will follow the method resolution order\n",
    "        print(\"Method in class D\")\n",
    "\n",
    "d = D()\n",
    "d.method()"
   ]
  },
  {
   "cell_type": "markdown",
   "id": "af45d5aa-c2bb-4f3b-9764-8e1c14ff5f29",
   "metadata": {},
   "source": [
    "**TYPES OF INNHERITANCE**"
   ]
  },
  {
   "cell_type": "markdown",
   "id": "dbdf7c8c-4d97-44a2-86c3-a15b7e9dcfe5",
   "metadata": {},
   "source": [
    "**1)SIMPLE INHERITANCE**"
   ]
  },
  {
   "cell_type": "code",
   "execution_count": 13,
   "id": "de284d92-2c03-428e-b2d9-cc657b8db57d",
   "metadata": {},
   "outputs": [
    {
     "name": "stdout",
     "output_type": "stream",
     "text": [
      "buddy makes a sound\n"
     ]
    }
   ],
   "source": [
    "class animal:\n",
    "    def __init__(self,name):\n",
    "        self.name=name\n",
    "    def speak(self):\n",
    "        return f\"{self.name} makes a sound\"\n",
    "class Dog(animal):\n",
    "    def sound(self):\n",
    "        return f\"{self.name} barks\"\n",
    "dog=Dog(\"buddy\")\n",
    "print(dog.speak())"
   ]
  },
  {
   "cell_type": "markdown",
   "id": "579a8275-2321-49d0-b829-b07b875a3ff3",
   "metadata": {},
   "source": [
    "**2)multiple inheritance**"
   ]
  },
  {
   "cell_type": "code",
   "execution_count": 18,
   "id": "a1e62eea-4874-4041-9f16-2cbda3113d80",
   "metadata": {},
   "outputs": [
    {
     "data": {
      "text/plain": [
       "'engine start and wheels are rotating and car is moving'"
      ]
     },
     "execution_count": 18,
     "metadata": {},
     "output_type": "execute_result"
    }
   ],
   "source": [
    "class engine:\n",
    "    def start(self):\n",
    "        return \"engine start\"\n",
    "\n",
    "class wheels:\n",
    "    def rotate(self):\n",
    "        return \"wheels are rotating\"\n",
    "\n",
    "class car(engine,wheels):\n",
    "    def move(self):\n",
    "        return f\"{self.start()} and {self.rotate()} and car is moving\"\n",
    "\n",
    "k1 = car()\n",
    "k1.move()\n"
   ]
  },
  {
   "cell_type": "markdown",
   "id": "baa5ceb6-8ff6-48b2-a509-bb38614492ca",
   "metadata": {},
   "source": [
    "**3) MULTI LEVEL INHERITANCE**\n"
   ]
  },
  {
   "cell_type": "code",
   "execution_count": 8,
   "id": "0b3d4ddf-4bfb-4ad1-989f-1808ae222ac7",
   "metadata": {},
   "outputs": [
    {
     "name": "stdout",
     "output_type": "stream",
     "text": [
      "dad's phone\n"
     ]
    }
   ],
   "source": [
    "class grandpa:\n",
    "    def phone(self):\n",
    "        print(\"grandpa's phone\")\n",
    "class dad(grandpa):\n",
    "    def money(self):\n",
    "        print(\"dad's money\")\n",
    "class son(mom):\n",
    "    def laptop(self):\n",
    "        print(\"son's laptop\")\n",
    "son1=son()\n",
    "son1.phone()\n",
    "    "
   ]
  },
  {
   "cell_type": "markdown",
   "id": "0562e768-e008-4d2d-bb36-4db35585682a",
   "metadata": {},
   "source": [
    "**4)HIERARCHY INHERITANCE**\n"
   ]
  },
  {
   "cell_type": "code",
   "execution_count": 1,
   "id": "1683b9d6-e47b-483b-bbe9-06be94b1ba31",
   "metadata": {},
   "outputs": [],
   "source": [
    "class Animal:\n",
    "    pass\n",
    "class Dog(Animal):\n",
    "    pass\n",
    "class Cat(Animal):\n",
    "    pass\n",
    "class Cow(Animal):\n",
    "    pass\n",
    "#multiple child class use same parent class"
   ]
  },
  {
   "cell_type": "markdown",
   "id": "abefb639-ce81-45cd-a10a-9b7eb7842c63",
   "metadata": {},
   "source": [
    "**5)HYBRID INHERITANCE**"
   ]
  },
  {
   "cell_type": "code",
   "execution_count": 4,
   "id": "fa51eeda-3fd2-4616-a5a6-cfc65e55e0f4",
   "metadata": {},
   "outputs": [],
   "source": [
    "class Animal:\n",
    "    pass\n",
    "class Mammal(Animal):\n",
    "    pass\n",
    "class Bird(Animal):\n",
    "    pass\n",
    "class Dog(Mammal):\n",
    "    pass\n",
    "class Bat(Mammal, Bird):\n",
    "    pass\n",
    "#A combination of multiple types of inheritance"
   ]
  },
  {
   "cell_type": "code",
   "execution_count": null,
   "id": "9601da78-57e3-4459-b221-6bf6f4cb4766",
   "metadata": {},
   "outputs": [],
   "source": []
  }
 ],
 "metadata": {
  "kernelspec": {
   "display_name": "Python 3 (ipykernel)",
   "language": "python",
   "name": "python3"
  },
  "language_info": {
   "codemirror_mode": {
    "name": "ipython",
    "version": 3
   },
   "file_extension": ".py",
   "mimetype": "text/x-python",
   "name": "python",
   "nbconvert_exporter": "python",
   "pygments_lexer": "ipython3",
   "version": "3.12.4"
  }
 },
 "nbformat": 4,
 "nbformat_minor": 5
}
